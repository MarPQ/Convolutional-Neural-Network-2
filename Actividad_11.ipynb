{
  "nbformat": 4,
  "nbformat_minor": 0,
  "metadata": {
    "colab": {
      "name": "Actividad_11.ipynb",
      "provenance": [],
      "collapsed_sections": []
    },
    "kernelspec": {
      "name": "python3",
      "display_name": "Python 3"
    },
    "language_info": {
      "name": "python"
    }
  },
  "cells": [
    {
      "cell_type": "code",
      "metadata": {
        "id": "W0MYAFWlElQb"
      },
      "source": [
        "import numpy as np\n",
        "import matplotlib.pyplot as plt\n",
        "\n",
        "from sklearn.metrics import classification_report, confusion_matrix\n",
        "import cv2\n",
        "\n",
        "from tensorflow import keras\n",
        "from keras.models import Sequential\n",
        "from keras.layers import Dense, Flatten, Dropout, Conv2D, MaxPooling2D\n",
        "from keras.datasets import cifar10"
      ],
      "execution_count": 38,
      "outputs": []
    },
    {
      "cell_type": "code",
      "metadata": {
        "id": "IV8N4p0xFT3A"
      },
      "source": [
        "(xtrain,ytrain), (xtest,ytest) = cifar10.load_data()"
      ],
      "execution_count": 39,
      "outputs": []
    },
    {
      "cell_type": "code",
      "metadata": {
        "id": "7q6wRFHRFzK3"
      },
      "source": [
        "bird = (ytrain == 2).ravel()\n",
        "deer = (ytrain == 4).ravel()\n",
        "\n",
        "xtrain = np.concatenate((xtrain[bird,:,:,:],xtrain[deer,:,:,:]))\n",
        "\n",
        "bird = (ytest == 2).ravel()\n",
        "deer = (ytest == 4).ravel()\n",
        "\n",
        "xtest = np.concatenate((xtest[bird,:,:,:],xtest[deer,:,:,:]))"
      ],
      "execution_count": 40,
      "outputs": []
    },
    {
      "cell_type": "code",
      "metadata": {
        "id": "PUc5ajR1GyDN"
      },
      "source": [
        "ytrain = np.ones(10000)\n",
        "ytrain[0:5000] = ytrain[0:5000]*0\n",
        "I = np.random.permutation(10000) \n",
        "\n",
        "xtrain = xtrain[I,:,:,:]\n",
        "ytrain = ytrain[I]\n",
        "\n",
        "ytest = np.ones(2000)\n",
        "ytest[0:1000] = ytest[0:1000]*0\n",
        "I = np.random.permutation(2000) \n",
        "\n",
        "xtest = xtest[I,:,:,:]\n",
        "ytest = ytest[I]"
      ],
      "execution_count": 41,
      "outputs": []
    },
    {
      "cell_type": "code",
      "metadata": {
        "id": "kc1f4lalIP4K"
      },
      "source": [
        "xtrain = xtrain.astype('float32')/255\n",
        "xtest = xtest.astype('float32')/255\n",
        "\n",
        "xtrain = xtrain.reshape(xtrain.shape[0],32,32,3)\n",
        "xtest = xtest.reshape(xtest.shape[0],32,32,3)"
      ],
      "execution_count": 42,
      "outputs": []
    },
    {
      "cell_type": "code",
      "metadata": {
        "id": "KG5csTc8Inl-"
      },
      "source": [
        "model = Sequential()\n",
        "\n",
        "#Primera capa\n",
        "model.add(Conv2D(256,kernel_size=(3,3),padding='same',activation='relu',input_shape=(32,32,3)))\n",
        "model.add(MaxPooling2D(pool_size=(2,2)))\n",
        "model.add(Dropout(0.2))\n",
        "#Segunda capa\n",
        "model.add(Conv2D(128,kernel_size=(3,3),padding='same',activation='relu'))\n",
        "model.add(MaxPooling2D(pool_size=(2,2)))\n",
        "model.add(Dropout(0.2))\n",
        "#Tercera capa\n",
        "model.add(Conv2D(64,kernel_size=(3,3),padding='same',activation='relu'))\n",
        "model.add(MaxPooling2D(pool_size=(2,2)))\n",
        "model.add(Dropout(0.2))\n",
        "#Cuarta capa\n",
        "model.add(Conv2D(32,kernel_size=(3,3),padding='same',activation='relu'))\n",
        "model.add(MaxPooling2D(pool_size=(2,2)))\n",
        "model.add(Dropout(0.2))\n",
        "#Realizamos un flatten\n",
        "model.add(Flatten())\n",
        "\n",
        "model.add(Dense(128,activation='relu'))\n",
        "model.add(Dropout(0.2))\n",
        "\n",
        "model.add(Dense(64,activation='relu'))\n",
        "model.add(Dropout(0.2))\n",
        "\n",
        "model.add(Dense(32,activation='relu'))\n",
        "model.add(Dropout(0.2))\n",
        "\n",
        "#Ultima capa de clasificacion\n",
        "model.add(Dense(1,activation='sigmoid'))\n",
        "\n",
        "model.compile(loss='binary_crossentropy',optimizer='adam',metrics=['accuracy'])"
      ],
      "execution_count": 48,
      "outputs": []
    },
    {
      "cell_type": "code",
      "metadata": {
        "colab": {
          "base_uri": "https://localhost:8080/"
        },
        "id": "C5jSWiDFIn06",
        "outputId": "3ae12c4c-a495-400a-860e-c3ff90233ae1"
      },
      "source": [
        "hist = model.fit(xtrain,ytrain,batch_size=32,epochs=60,verbose=1,validation_data=(xtest,ytest))"
      ],
      "execution_count": 49,
      "outputs": [
        {
          "output_type": "stream",
          "text": [
            "Epoch 1/60\n",
            "313/313 [==============================] - 163s 515ms/step - loss: 0.6949 - accuracy: 0.5072 - val_loss: 0.6918 - val_accuracy: 0.5085\n",
            "Epoch 2/60\n",
            "313/313 [==============================] - 158s 505ms/step - loss: 0.6913 - accuracy: 0.5295 - val_loss: 0.6722 - val_accuracy: 0.6170\n",
            "Epoch 3/60\n",
            "313/313 [==============================] - 160s 512ms/step - loss: 0.6683 - accuracy: 0.5892 - val_loss: 0.6317 - val_accuracy: 0.6310\n",
            "Epoch 4/60\n",
            "313/313 [==============================] - 159s 508ms/step - loss: 0.6238 - accuracy: 0.6483 - val_loss: 0.6057 - val_accuracy: 0.6865\n",
            "Epoch 5/60\n",
            "313/313 [==============================] - 157s 503ms/step - loss: 0.6088 - accuracy: 0.6588 - val_loss: 0.5869 - val_accuracy: 0.6920\n",
            "Epoch 6/60\n",
            "313/313 [==============================] - 157s 502ms/step - loss: 0.5902 - accuracy: 0.6753 - val_loss: 0.5750 - val_accuracy: 0.7040\n",
            "Epoch 7/60\n",
            "313/313 [==============================] - 157s 502ms/step - loss: 0.5814 - accuracy: 0.6905 - val_loss: 0.5529 - val_accuracy: 0.7275\n",
            "Epoch 8/60\n",
            "313/313 [==============================] - 160s 510ms/step - loss: 0.5704 - accuracy: 0.6976 - val_loss: 0.5337 - val_accuracy: 0.7365\n",
            "Epoch 9/60\n",
            "313/313 [==============================] - 158s 505ms/step - loss: 0.5501 - accuracy: 0.7209 - val_loss: 0.5186 - val_accuracy: 0.7490\n",
            "Epoch 10/60\n",
            "313/313 [==============================] - 158s 504ms/step - loss: 0.5211 - accuracy: 0.7395 - val_loss: 0.4818 - val_accuracy: 0.7705\n",
            "Epoch 11/60\n",
            "313/313 [==============================] - 159s 508ms/step - loss: 0.4953 - accuracy: 0.7557 - val_loss: 0.4803 - val_accuracy: 0.7760\n",
            "Epoch 12/60\n",
            "313/313 [==============================] - 158s 505ms/step - loss: 0.4708 - accuracy: 0.7737 - val_loss: 0.4814 - val_accuracy: 0.7700\n",
            "Epoch 13/60\n",
            "313/313 [==============================] - 159s 510ms/step - loss: 0.4435 - accuracy: 0.7931 - val_loss: 0.4241 - val_accuracy: 0.8055\n",
            "Epoch 14/60\n",
            "313/313 [==============================] - 158s 504ms/step - loss: 0.4244 - accuracy: 0.7994 - val_loss: 0.4076 - val_accuracy: 0.8175\n",
            "Epoch 15/60\n",
            "313/313 [==============================] - 157s 501ms/step - loss: 0.4078 - accuracy: 0.8117 - val_loss: 0.3812 - val_accuracy: 0.8335\n",
            "Epoch 16/60\n",
            "313/313 [==============================] - 159s 508ms/step - loss: 0.3820 - accuracy: 0.8302 - val_loss: 0.4675 - val_accuracy: 0.7920\n",
            "Epoch 17/60\n",
            "313/313 [==============================] - 159s 509ms/step - loss: 0.3816 - accuracy: 0.8285 - val_loss: 0.3533 - val_accuracy: 0.8575\n",
            "Epoch 18/60\n",
            "313/313 [==============================] - 160s 510ms/step - loss: 0.3641 - accuracy: 0.8378 - val_loss: 0.3729 - val_accuracy: 0.8380\n",
            "Epoch 19/60\n",
            "313/313 [==============================] - 160s 512ms/step - loss: 0.3503 - accuracy: 0.8515 - val_loss: 0.3646 - val_accuracy: 0.8455\n",
            "Epoch 20/60\n",
            "313/313 [==============================] - 163s 521ms/step - loss: 0.3407 - accuracy: 0.8603 - val_loss: 0.3400 - val_accuracy: 0.8610\n",
            "Epoch 21/60\n",
            "313/313 [==============================] - 158s 504ms/step - loss: 0.3204 - accuracy: 0.8618 - val_loss: 0.3423 - val_accuracy: 0.8490\n",
            "Epoch 22/60\n",
            "313/313 [==============================] - 162s 518ms/step - loss: 0.3221 - accuracy: 0.8656 - val_loss: 0.3215 - val_accuracy: 0.8610\n",
            "Epoch 23/60\n",
            "313/313 [==============================] - 159s 509ms/step - loss: 0.3107 - accuracy: 0.8667 - val_loss: 0.3259 - val_accuracy: 0.8655\n",
            "Epoch 24/60\n",
            "313/313 [==============================] - 157s 502ms/step - loss: 0.2925 - accuracy: 0.8788 - val_loss: 0.3063 - val_accuracy: 0.8660\n",
            "Epoch 25/60\n",
            "313/313 [==============================] - 157s 503ms/step - loss: 0.2866 - accuracy: 0.8776 - val_loss: 0.3280 - val_accuracy: 0.8615\n",
            "Epoch 26/60\n",
            "313/313 [==============================] - 157s 501ms/step - loss: 0.2818 - accuracy: 0.8780 - val_loss: 0.2996 - val_accuracy: 0.8695\n",
            "Epoch 27/60\n",
            "313/313 [==============================] - 157s 501ms/step - loss: 0.2774 - accuracy: 0.8846 - val_loss: 0.3120 - val_accuracy: 0.8695\n",
            "Epoch 28/60\n",
            "313/313 [==============================] - 157s 502ms/step - loss: 0.2772 - accuracy: 0.8806 - val_loss: 0.3072 - val_accuracy: 0.8720\n",
            "Epoch 29/60\n",
            "313/313 [==============================] - 158s 504ms/step - loss: 0.2540 - accuracy: 0.8922 - val_loss: 0.3011 - val_accuracy: 0.8760\n",
            "Epoch 30/60\n",
            "313/313 [==============================] - 157s 501ms/step - loss: 0.2620 - accuracy: 0.8928 - val_loss: 0.3011 - val_accuracy: 0.8780\n",
            "Epoch 31/60\n",
            "313/313 [==============================] - 159s 509ms/step - loss: 0.2482 - accuracy: 0.8951 - val_loss: 0.2935 - val_accuracy: 0.8815\n",
            "Epoch 32/60\n",
            "313/313 [==============================] - 157s 501ms/step - loss: 0.2546 - accuracy: 0.8909 - val_loss: 0.2899 - val_accuracy: 0.8830\n",
            "Epoch 33/60\n",
            "313/313 [==============================] - 157s 503ms/step - loss: 0.2267 - accuracy: 0.9066 - val_loss: 0.2922 - val_accuracy: 0.8805\n",
            "Epoch 34/60\n",
            "313/313 [==============================] - 158s 505ms/step - loss: 0.2436 - accuracy: 0.8935 - val_loss: 0.3008 - val_accuracy: 0.8800\n",
            "Epoch 35/60\n",
            "313/313 [==============================] - 158s 505ms/step - loss: 0.2261 - accuracy: 0.9064 - val_loss: 0.3452 - val_accuracy: 0.8585\n",
            "Epoch 36/60\n",
            "313/313 [==============================] - 157s 503ms/step - loss: 0.2211 - accuracy: 0.9111 - val_loss: 0.2913 - val_accuracy: 0.8870\n",
            "Epoch 37/60\n",
            "313/313 [==============================] - 158s 504ms/step - loss: 0.2234 - accuracy: 0.9090 - val_loss: 0.2852 - val_accuracy: 0.8845\n",
            "Epoch 38/60\n",
            "313/313 [==============================] - 158s 504ms/step - loss: 0.2187 - accuracy: 0.9113 - val_loss: 0.3115 - val_accuracy: 0.8780\n",
            "Epoch 39/60\n",
            "313/313 [==============================] - 158s 504ms/step - loss: 0.2120 - accuracy: 0.9114 - val_loss: 0.2951 - val_accuracy: 0.8895\n",
            "Epoch 40/60\n",
            "313/313 [==============================] - 158s 503ms/step - loss: 0.2252 - accuracy: 0.9124 - val_loss: 0.2928 - val_accuracy: 0.8900\n",
            "Epoch 41/60\n",
            "313/313 [==============================] - 157s 503ms/step - loss: 0.1983 - accuracy: 0.9228 - val_loss: 0.3084 - val_accuracy: 0.8865\n",
            "Epoch 42/60\n",
            "313/313 [==============================] - 157s 503ms/step - loss: 0.1869 - accuracy: 0.9257 - val_loss: 0.3050 - val_accuracy: 0.8770\n",
            "Epoch 43/60\n",
            "313/313 [==============================] - 157s 502ms/step - loss: 0.1999 - accuracy: 0.9182 - val_loss: 0.3150 - val_accuracy: 0.8925\n",
            "Epoch 44/60\n",
            "313/313 [==============================] - 157s 502ms/step - loss: 0.1849 - accuracy: 0.9291 - val_loss: 0.3168 - val_accuracy: 0.8895\n",
            "Epoch 45/60\n",
            "313/313 [==============================] - 157s 503ms/step - loss: 0.1930 - accuracy: 0.9224 - val_loss: 0.2981 - val_accuracy: 0.8895\n",
            "Epoch 46/60\n",
            "313/313 [==============================] - 157s 501ms/step - loss: 0.1826 - accuracy: 0.9276 - val_loss: 0.3098 - val_accuracy: 0.8850\n",
            "Epoch 47/60\n",
            "313/313 [==============================] - 157s 501ms/step - loss: 0.1913 - accuracy: 0.9281 - val_loss: 0.3216 - val_accuracy: 0.8850\n",
            "Epoch 48/60\n",
            "313/313 [==============================] - 157s 503ms/step - loss: 0.1752 - accuracy: 0.9295 - val_loss: 0.3088 - val_accuracy: 0.8820\n",
            "Epoch 49/60\n",
            "313/313 [==============================] - 157s 502ms/step - loss: 0.1834 - accuracy: 0.9228 - val_loss: 0.2939 - val_accuracy: 0.8885\n",
            "Epoch 50/60\n",
            "313/313 [==============================] - 159s 507ms/step - loss: 0.1772 - accuracy: 0.9278 - val_loss: 0.3148 - val_accuracy: 0.8815\n",
            "Epoch 51/60\n",
            "313/313 [==============================] - 158s 504ms/step - loss: 0.1709 - accuracy: 0.9309 - val_loss: 0.2953 - val_accuracy: 0.8925\n",
            "Epoch 52/60\n",
            "313/313 [==============================] - 159s 507ms/step - loss: 0.1652 - accuracy: 0.9346 - val_loss: 0.3115 - val_accuracy: 0.8840\n",
            "Epoch 53/60\n",
            "313/313 [==============================] - 158s 503ms/step - loss: 0.1782 - accuracy: 0.9297 - val_loss: 0.3095 - val_accuracy: 0.8925\n",
            "Epoch 54/60\n",
            "313/313 [==============================] - 157s 500ms/step - loss: 0.1623 - accuracy: 0.9359 - val_loss: 0.3222 - val_accuracy: 0.8825\n",
            "Epoch 55/60\n",
            "313/313 [==============================] - 156s 499ms/step - loss: 0.1666 - accuracy: 0.9327 - val_loss: 0.3030 - val_accuracy: 0.8955\n",
            "Epoch 56/60\n",
            "313/313 [==============================] - 158s 506ms/step - loss: 0.1709 - accuracy: 0.9317 - val_loss: 0.3065 - val_accuracy: 0.8915\n",
            "Epoch 57/60\n",
            "313/313 [==============================] - 158s 506ms/step - loss: 0.1469 - accuracy: 0.9392 - val_loss: 0.3168 - val_accuracy: 0.8930\n",
            "Epoch 58/60\n",
            "313/313 [==============================] - 161s 515ms/step - loss: 0.1519 - accuracy: 0.9409 - val_loss: 0.3297 - val_accuracy: 0.8885\n",
            "Epoch 59/60\n",
            "313/313 [==============================] - 158s 506ms/step - loss: 0.1515 - accuracy: 0.9416 - val_loss: 0.3140 - val_accuracy: 0.8820\n",
            "Epoch 60/60\n",
            "313/313 [==============================] - 157s 503ms/step - loss: 0.1497 - accuracy: 0.9450 - val_loss: 0.3624 - val_accuracy: 0.8810\n"
          ],
          "name": "stdout"
        }
      ]
    },
    {
      "cell_type": "code",
      "metadata": {
        "colab": {
          "base_uri": "https://localhost:8080/",
          "height": 573
        },
        "id": "RPTMuHDFK5rB",
        "outputId": "999ebeb6-e702-4076-f3f9-ce55d084a93e"
      },
      "source": [
        "plt.figure()\n",
        "plt.grid()\n",
        "plt.plot(hist.history['accuracy'],lw=2)\n",
        "plt.plot(hist.history['val_accuracy'],lw=2)\n",
        "plt.title('Model accuracy')\n",
        "plt.ylabel('accuracy')\n",
        "plt.xlabel('epoch')\n",
        "plt.legend(['train','test'], loc='best')\n",
        "plt.show()\n",
        "\n",
        "plt.figure()\n",
        "plt.grid()\n",
        "plt.plot(hist.history['loss'],lw=2)\n",
        "plt.plot(hist.history['val_loss'],lw=2)\n",
        "plt.title('Model loss')\n",
        "plt.ylabel('loss')\n",
        "plt.xlabel('epoch')\n",
        "plt.legend(['train','test'], loc='best')\n",
        "plt.show()"
      ],
      "execution_count": 50,
      "outputs": [
        {
          "output_type": "display_data",
          "data": {
            "image/png": "[encoded data removed]",
            "text/plain": [
              "<Figure size 432x288 with 1 Axes>"
            ]
          },
          "metadata": {
            "tags": [],
            "needs_background": "light"
          }
        },
        {
          "output_type": "display_data",
          "data": {
            "image/png": "[encoded data removed]",
            "text/plain": [
              "<Figure size 432x288 with 1 Axes>"
            ]
          },
          "metadata": {
            "tags": [],
            "needs_background": "light"
          }
        }
      ]
    },
    {
      "cell_type": "code",
      "metadata": {
        "colab": {
          "base_uri": "https://localhost:8080/"
        },
        "id": "AdM8Z12LOuw3",
        "outputId": "f7398f5b-0038-46c8-c44f-8a96a23f7d47"
      },
      "source": [
        "ypred = model.predict(xtest)\n",
        "ypred = ypred.ravel()>0.5\n",
        "\n",
        "print('\\nMétricas: \\n', classification_report(ytest,ypred));\n",
        "\n",
        "print('Matriz de confusión: \\n', confusion_matrix(ytest,ypred))"
      ],
      "execution_count": 51,
      "outputs": [
        {
          "output_type": "stream",
          "text": [
            "\n",
            "Métricas: \n",
            "               precision    recall  f1-score   support\n",
            "\n",
            "         0.0       0.94      0.81      0.87      1000\n",
            "         1.0       0.83      0.95      0.89      1000\n",
            "\n",
            "    accuracy                           0.88      2000\n",
            "   macro avg       0.89      0.88      0.88      2000\n",
            "weighted avg       0.89      0.88      0.88      2000\n",
            "\n",
            "Matriz de confusión: \n",
            " [[812 188]\n",
            " [ 50 950]]\n"
          ],
          "name": "stdout"
        }
      ]
    },
    {
      "cell_type": "code",
      "metadata": {
        "id": "9yHy1hQ9LV-F"
      },
      "source": [
        "model.save('Model_cifar10_1.h5')"
      ],
      "execution_count": 52,
      "outputs": []
    },
    {
      "cell_type": "code",
      "metadata": {
        "id": "Y4ZPvTZiLYTd"
      },
      "source": [
        "model = keras.models.load_model('Model_cifar10_1.h5')"
      ],
      "execution_count": null,
      "outputs": []
    },
    {
      "cell_type": "code",
      "metadata": {
        "colab": {
          "base_uri": "https://localhost:8080/",
          "height": 281
        },
        "id": "aycXjiP5OnQW",
        "outputId": "793f8619-ad9c-45c2-e165-c0391814c3a8"
      },
      "source": [
        "patron = xtest[np.random.randint(0,2000)].reshape(1,32,32,3)\n",
        "\n",
        "number = model.predict(patron)\n",
        "number = number.ravel()>0.5\n",
        "\n",
        "plt.imshow(patron[0,:,:])\n",
        "plt.title('Prediction: ' + str(number))\n",
        "plt.show()"
      ],
      "execution_count": 78,
      "outputs": [
        {
          "output_type": "display_data",
          "data": {
            "image/png": "[encoded data removed]",
            "text/plain": [
              "<Figure size 432x288 with 1 Axes>"
            ]
          },
          "metadata": {
            "tags": [],
            "needs_background": "light"
          }
        }
      ]
    },
    {
      "cell_type": "code",
      "metadata": {
        "colab": {
          "base_uri": "https://localhost:8080/",
          "height": 281
        },
        "id": "sGmxLlNpRSOa",
        "outputId": "fe2b227a-5cbb-4b86-ed2b-2b5793117191"
      },
      "source": [
        "import cv2\n",
        "\n",
        "img = cv2.imread('bird_1.jpg')\n",
        "img = cv2.resize(img,(32,32))\n",
        "\n",
        "patron = img.reshape(1,32,32,3)/255\n",
        "\n",
        "number = model.predict(patron)\n",
        "number = number.ravel()>0.5\n",
        "\n",
        "plt.imshow(patron[0,:,:])\n",
        "plt.title('Prediction: ' + str(number))\n",
        "plt.show()"
      ],
      "execution_count": 81,
      "outputs": [
        {
          "output_type": "display_data",
          "data": {
            "image/png": "[encoded data removed]",
            "text/plain": [
              "<Figure size 432x288 with 1 Axes>"
            ]
          },
          "metadata": {
            "tags": [],
            "needs_background": "light"
          }
        }
      ]
    }
  ]
}